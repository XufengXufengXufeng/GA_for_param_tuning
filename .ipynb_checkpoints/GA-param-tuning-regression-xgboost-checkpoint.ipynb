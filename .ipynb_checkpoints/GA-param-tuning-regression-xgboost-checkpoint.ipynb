{
 "cells": [
  {
   "cell_type": "code",
   "execution_count": 1,
   "metadata": {
    "collapsed": true
   },
   "outputs": [],
   "source": [
    "import pandas as pd\n",
    "import numpy as np\n",
    "import xgboost as xgb\n",
    "from random import randint,uniform\n",
    "from sklearn.model_selection import train_test_split\n",
    "from time import time"
   ]
  },
  {
   "cell_type": "code",
   "execution_count": 2,
   "metadata": {
    "collapsed": true
   },
   "outputs": [],
   "source": [
    "popSize = 30\n",
    "eliteSize = 0.1\n",
    "mutation_rate = 0.2\n",
    "nGeneration = 100"
   ]
  },
  {
   "cell_type": "code",
   "execution_count": 3,
   "metadata": {
    "collapsed": true
   },
   "outputs": [],
   "source": [
    "paramList = ['depth','max_bin','eta','gamma','min_child_weight','lamda','alpha','colsample_bytree','subsample',\\\n",
    "            'fitness']\n",
    "population = pd.DataFrame(np.zeros(shape=(popSize,len(paramList))),columns=paramList)\n",
    "population.depth = [randint(6,15) for p in range(0,popSize)]\n",
    "population.max_bin = [randint(80,150) for p in range(0,popSize)]\n",
    "population.eta = [uniform(0.1,1) for p in range(0,popSize)]\n",
    "population.gamma = [uniform(0.01,0.03) for p in range(0,popSize)]\n",
    "population.min_child_weight = [randint(1,20) for p in range(0,popSize)]\n",
    "population.lamda = [uniform(0.1,0.95) for p in range(0,popSize)]\n",
    "population.alpha = [uniform(0.1,0.95) for p in range(0,popSize)]\n",
    "population.colsample_bytree = [uniform(0.7,0.95) for p in range(0,popSize)]\n",
    "population.subsample = [uniform(0.7,0.95) for p in range(0,popSize)]\n",
    "population.fitness = [uniform(100,100) for p in range(0,popSize)]"
   ]
  },
  {
   "cell_type": "code",
   "execution_count": 4,
   "metadata": {
    "scrolled": true
   },
   "outputs": [
    {
     "data": {
      "text/html": [
       "<div>\n",
       "<style>\n",
       "    .dataframe thead tr:only-child th {\n",
       "        text-align: right;\n",
       "    }\n",
       "\n",
       "    .dataframe thead th {\n",
       "        text-align: left;\n",
       "    }\n",
       "\n",
       "    .dataframe tbody tr th {\n",
       "        vertical-align: top;\n",
       "    }\n",
       "</style>\n",
       "<table border=\"1\" class=\"dataframe\">\n",
       "  <thead>\n",
       "    <tr style=\"text-align: right;\">\n",
       "      <th></th>\n",
       "      <th>depth</th>\n",
       "      <th>max_bin</th>\n",
       "      <th>eta</th>\n",
       "      <th>gamma</th>\n",
       "      <th>min_child_weight</th>\n",
       "      <th>lamda</th>\n",
       "      <th>alpha</th>\n",
       "      <th>colsample_bytree</th>\n",
       "      <th>subsample</th>\n",
       "      <th>fitness</th>\n",
       "    </tr>\n",
       "  </thead>\n",
       "  <tbody>\n",
       "    <tr>\n",
       "      <th>0</th>\n",
       "      <td>13</td>\n",
       "      <td>139</td>\n",
       "      <td>0.799857</td>\n",
       "      <td>0.026391</td>\n",
       "      <td>16</td>\n",
       "      <td>0.214907</td>\n",
       "      <td>0.150815</td>\n",
       "      <td>0.879820</td>\n",
       "      <td>0.784375</td>\n",
       "      <td>100.0</td>\n",
       "    </tr>\n",
       "    <tr>\n",
       "      <th>1</th>\n",
       "      <td>9</td>\n",
       "      <td>104</td>\n",
       "      <td>0.344592</td>\n",
       "      <td>0.015329</td>\n",
       "      <td>1</td>\n",
       "      <td>0.283432</td>\n",
       "      <td>0.204148</td>\n",
       "      <td>0.865601</td>\n",
       "      <td>0.867650</td>\n",
       "      <td>100.0</td>\n",
       "    </tr>\n",
       "    <tr>\n",
       "      <th>2</th>\n",
       "      <td>6</td>\n",
       "      <td>86</td>\n",
       "      <td>0.826849</td>\n",
       "      <td>0.012918</td>\n",
       "      <td>3</td>\n",
       "      <td>0.406222</td>\n",
       "      <td>0.513127</td>\n",
       "      <td>0.786941</td>\n",
       "      <td>0.715817</td>\n",
       "      <td>100.0</td>\n",
       "    </tr>\n",
       "    <tr>\n",
       "      <th>3</th>\n",
       "      <td>9</td>\n",
       "      <td>108</td>\n",
       "      <td>0.354926</td>\n",
       "      <td>0.018907</td>\n",
       "      <td>3</td>\n",
       "      <td>0.216761</td>\n",
       "      <td>0.744156</td>\n",
       "      <td>0.814789</td>\n",
       "      <td>0.721447</td>\n",
       "      <td>100.0</td>\n",
       "    </tr>\n",
       "    <tr>\n",
       "      <th>4</th>\n",
       "      <td>12</td>\n",
       "      <td>132</td>\n",
       "      <td>0.312280</td>\n",
       "      <td>0.010006</td>\n",
       "      <td>15</td>\n",
       "      <td>0.265752</td>\n",
       "      <td>0.597981</td>\n",
       "      <td>0.711948</td>\n",
       "      <td>0.868156</td>\n",
       "      <td>100.0</td>\n",
       "    </tr>\n",
       "  </tbody>\n",
       "</table>\n",
       "</div>"
      ],
      "text/plain": [
       "   depth  max_bin       eta     gamma  min_child_weight     lamda     alpha  \\\n",
       "0     13      139  0.799857  0.026391                16  0.214907  0.150815   \n",
       "1      9      104  0.344592  0.015329                 1  0.283432  0.204148   \n",
       "2      6       86  0.826849  0.012918                 3  0.406222  0.513127   \n",
       "3      9      108  0.354926  0.018907                 3  0.216761  0.744156   \n",
       "4     12      132  0.312280  0.010006                15  0.265752  0.597981   \n",
       "\n",
       "   colsample_bytree  subsample  fitness  \n",
       "0          0.879820   0.784375    100.0  \n",
       "1          0.865601   0.867650    100.0  \n",
       "2          0.786941   0.715817    100.0  \n",
       "3          0.814789   0.721447    100.0  \n",
       "4          0.711948   0.868156    100.0  "
      ]
     },
     "execution_count": 4,
     "metadata": {},
     "output_type": "execute_result"
    }
   ],
   "source": [
    "population.head()"
   ]
  },
  {
   "cell_type": "code",
   "execution_count": 5,
   "metadata": {},
   "outputs": [
    {
     "data": {
      "text/plain": [
       "(30, 10)"
      ]
     },
     "execution_count": 5,
     "metadata": {},
     "output_type": "execute_result"
    }
   ],
   "source": [
    "population.shape"
   ]
  },
  {
   "cell_type": "code",
   "execution_count": 36,
   "metadata": {
    "collapsed": true
   },
   "outputs": [],
   "source": [
    "def createNewPopulation(population,eliteSize=eliteSize,mutation_rate=mutation_rate,popSize=popSize):\n",
    "    population.sort_values(['fitness'],ascending=True,inplace=True)\n",
    "    population.reset_index(drop=True,inplace=True)\n",
    "    popSize = population.shape[0]\n",
    "    nElite = int(round(eliteSize*popSize))\n",
    "    \n",
    "    new_population = population.copy(deep=True)\n",
    "    for i in range(nElite,popSize):\n",
    "        # create father and mother\n",
    "        p1 = randint(0,int(popSize/2))\n",
    "        p2 = randint(0,int(popSize/2))\n",
    "        \n",
    "        for attr in list(new_population.columns.values):\n",
    "            if(uniform(0,1)>0.5):\n",
    "                new_population.loc[i,attr] = population.loc[p1,attr]\n",
    "            else:\n",
    "                new_population.loc[i,attr] = population.loc[p2,attr]\n",
    "                \n",
    "            if(uniform(0,1)<mutation_rate):\n",
    "                attr = list(new_population.columns.values)[randint(0,new_population.shape[1]-2)]\n",
    "                if(attr=='depth'):\n",
    "                    new_population.loc[i,attr] = max(3,new_population.loc[i,attr]+randint(-2,2))\n",
    "                elif(attr=='max_bin'):\n",
    "                    new_population.loc[i,attr] = max(70,new_population.loc[i,attr]+randint(-20,20))\n",
    "                elif(attr=='eta'):\n",
    "                    new_population.loc[i,attr] = max(0.1,new_population.loc[i,attr]+uniform(-0.05,0.05))\n",
    "                elif(attr=='gamma'):\n",
    "                    new_population.loc[i,attr] = max(0.1,new_population.loc[i,attr]+uniform(-0.005,0.005))\n",
    "                elif(attr=='min_child_weight'):\n",
    "                    new_population.loc[i,attr] = max(0,new_population.loc[i,attr]+randint(-2,2))\n",
    "                elif(attr=='lamda'):\n",
    "                    new_population.loc[i,attr] = min(max(0.1,new_population.loc[i,attr]+uniform(-0.05,0.05)),1)\n",
    "                elif(attr=='alpha'):\n",
    "                    new_population.loc[i,attr] = min(max(0.1,new_population.loc[i,attr]+uniform(-0.05,0.05)),1)\n",
    "                elif(attr=='colsample_bytree'):\n",
    "                    new_population.loc[i,attr] = min(max(0.6,new_population.loc[i,attr]+uniform(-0.05,0.05)),1)\n",
    "                elif(attr=='subsample'):\n",
    "                    new_population.loc[i,attr] = min(max(0.6,new_population.loc[i,attr]+uniform(-0.05,0.05)),1)\n",
    "    return new_population"
   ]
  },
  {
   "cell_type": "code",
   "execution_count": 38,
   "metadata": {
    "collapsed": true
   },
   "outputs": [],
   "source": [
    "def testInstance(population,i,dtrain):\n",
    "    params = {\n",
    "        'objective':'reg:linear',\n",
    "        'tree_method':'hist',\n",
    "        'eta':population.eta[i],\n",
    "        'max_depth':population.depth[i],\n",
    "        'subsample':population.subsample[i],\n",
    "        'colsample_bytree':population.colsample_bytree[i],\n",
    "        'max_bin':population.max_bin[i],\n",
    "        'lambda':population.lamda[i],\n",
    "        'alpha':population.alpha[i],\n",
    "        'gamma':population.gamma[i],\n",
    "        'min_child_weight':population.min_child_weight[i],\n",
    "        'silent':1,\n",
    "        'seed':401\n",
    "    }\n",
    "    history = xgb.cv(\n",
    "        params,\n",
    "        dtrain,\n",
    "        num_boost_round = 30,\n",
    "        nfold=3,\n",
    "        verbose_eval = False,\n",
    "        metrics = 'mae'\n",
    "        )\n",
    "    return history['test-mae-mean'].iloc[-1]"
   ]
  },
  {
   "cell_type": "code",
   "execution_count": 18,
   "metadata": {
    "collapsed": true
   },
   "outputs": [],
   "source": [
    "def printResult(filename,population,i,generation):\n",
    "    f1 = open(filename,'a')\n",
    "    f1.write('Generation %d Best fitness %f\\n' % (generation,population.fitness[i]))\n",
    "    f1.write('\"eta\":%f\\n' % population.eta[i])\n",
    "    f1.write('\"max_depth\":%f\\n' %population.depth[i])\n",
    "    f1.write('\"subsample\":%f\\n' %population.subsample[i])\n",
    "    f1.write('\"colsample_bytree\":%f\\n' %population.colsample_bytree[i])\n",
    "    f1.write('\"lamdba\":%f\\n' %population.lamda[i])\n",
    "    f1.write('\"alpha\":%f\\n' %population.alpha[i])\n",
    "    f1.write('\"min_child_weight\":%f\\n' %population.min_child_weight[i])\n",
    "    f1.write('\"max_bin\":%f\\n' %population.max_bin[i])\n",
    "    f1.close()"
   ]
  },
  {
   "cell_type": "code",
   "execution_count": 39,
   "metadata": {
    "collapsed": true
   },
   "outputs": [],
   "source": [
    "def evolve(dtrain,nGeneration=nGeneration,popSize=popSize,eliteSize=eliteSize,population=population):\n",
    "    for gen in range(nGeneration):\n",
    "        print('Generation %d\\n' %gen)\n",
    "        population = createNewPopulation(population)\n",
    "        nElite = int(round(eliteSize*popSize))\n",
    "        for i in range(nElite,popSize):\n",
    "            print('testing instance %d' %i)\n",
    "            population.loc[i,'fitness'] = testInstance(population,i,dtrain)\n",
    "            print('--Fitness %f \\n' %population.fitness[i])\n",
    "        population.sort_values(['fitness'],ascending=True,inplace=True)\n",
    "        population.reset_index(drop=True,inplace=True)\n",
    "        printResult('xgb_result.txt',population,0,gen)\n",
    "        print('Generation %d Best fitness (3-fold mae cv): %f' %(gen,population.fitness[0]))"
   ]
  },
  {
   "cell_type": "code",
   "execution_count": 20,
   "metadata": {
    "collapsed": true
   },
   "outputs": [],
   "source": [
    "train_data = pd.read_csv('train_data.csv')\n",
    "test_data = pd.read_csv('test_data.csv')"
   ]
  },
  {
   "cell_type": "code",
   "execution_count": 21,
   "metadata": {},
   "outputs": [
    {
     "data": {
      "text/html": [
       "<div>\n",
       "<style>\n",
       "    .dataframe thead tr:only-child th {\n",
       "        text-align: right;\n",
       "    }\n",
       "\n",
       "    .dataframe thead th {\n",
       "        text-align: left;\n",
       "    }\n",
       "\n",
       "    .dataframe tbody tr th {\n",
       "        vertical-align: top;\n",
       "    }\n",
       "</style>\n",
       "<table border=\"1\" class=\"dataframe\">\n",
       "  <thead>\n",
       "    <tr style=\"text-align: right;\">\n",
       "      <th></th>\n",
       "      <th>StateHoliday</th>\n",
       "      <th>Store</th>\n",
       "      <th>DayOfWeek</th>\n",
       "      <th>Open</th>\n",
       "      <th>Promo</th>\n",
       "      <th>SchoolHoliday</th>\n",
       "      <th>Year</th>\n",
       "      <th>Month</th>\n",
       "      <th>DayOfMonth</th>\n",
       "      <th>DayOfYear</th>\n",
       "      <th>...</th>\n",
       "      <th>ThisWeekStholi</th>\n",
       "      <th>NextWeekStholi</th>\n",
       "      <th>LastWeekScholi</th>\n",
       "      <th>ThisWeekScholi</th>\n",
       "      <th>NextWeekScholi</th>\n",
       "      <th>PrevQSalesMed</th>\n",
       "      <th>PrevYSalesMed</th>\n",
       "      <th>Assortment</th>\n",
       "      <th>PromoInterval</th>\n",
       "      <th>Sales</th>\n",
       "    </tr>\n",
       "  </thead>\n",
       "  <tbody>\n",
       "    <tr>\n",
       "      <th>0</th>\n",
       "      <td>0</td>\n",
       "      <td>1</td>\n",
       "      <td>5</td>\n",
       "      <td>1.0</td>\n",
       "      <td>1</td>\n",
       "      <td>1</td>\n",
       "      <td>2015</td>\n",
       "      <td>7</td>\n",
       "      <td>31</td>\n",
       "      <td>212</td>\n",
       "      <td>...</td>\n",
       "      <td>0</td>\n",
       "      <td>0</td>\n",
       "      <td>0</td>\n",
       "      <td>0</td>\n",
       "      <td>0</td>\n",
       "      <td>4111.0</td>\n",
       "      <td>4327.0</td>\n",
       "      <td>0</td>\n",
       "      <td>3</td>\n",
       "      <td>5263.0</td>\n",
       "    </tr>\n",
       "    <tr>\n",
       "      <th>1</th>\n",
       "      <td>0</td>\n",
       "      <td>1</td>\n",
       "      <td>4</td>\n",
       "      <td>1.0</td>\n",
       "      <td>1</td>\n",
       "      <td>1</td>\n",
       "      <td>2015</td>\n",
       "      <td>7</td>\n",
       "      <td>30</td>\n",
       "      <td>211</td>\n",
       "      <td>...</td>\n",
       "      <td>0</td>\n",
       "      <td>0</td>\n",
       "      <td>0</td>\n",
       "      <td>0</td>\n",
       "      <td>0</td>\n",
       "      <td>4111.0</td>\n",
       "      <td>4327.0</td>\n",
       "      <td>0</td>\n",
       "      <td>3</td>\n",
       "      <td>5020.0</td>\n",
       "    </tr>\n",
       "    <tr>\n",
       "      <th>2</th>\n",
       "      <td>0</td>\n",
       "      <td>1</td>\n",
       "      <td>3</td>\n",
       "      <td>1.0</td>\n",
       "      <td>1</td>\n",
       "      <td>1</td>\n",
       "      <td>2015</td>\n",
       "      <td>7</td>\n",
       "      <td>29</td>\n",
       "      <td>210</td>\n",
       "      <td>...</td>\n",
       "      <td>0</td>\n",
       "      <td>0</td>\n",
       "      <td>0</td>\n",
       "      <td>0</td>\n",
       "      <td>0</td>\n",
       "      <td>4111.0</td>\n",
       "      <td>4327.0</td>\n",
       "      <td>0</td>\n",
       "      <td>3</td>\n",
       "      <td>4782.0</td>\n",
       "    </tr>\n",
       "    <tr>\n",
       "      <th>3</th>\n",
       "      <td>0</td>\n",
       "      <td>1</td>\n",
       "      <td>2</td>\n",
       "      <td>1.0</td>\n",
       "      <td>1</td>\n",
       "      <td>1</td>\n",
       "      <td>2015</td>\n",
       "      <td>7</td>\n",
       "      <td>28</td>\n",
       "      <td>209</td>\n",
       "      <td>...</td>\n",
       "      <td>0</td>\n",
       "      <td>0</td>\n",
       "      <td>0</td>\n",
       "      <td>1</td>\n",
       "      <td>0</td>\n",
       "      <td>4111.0</td>\n",
       "      <td>4327.0</td>\n",
       "      <td>0</td>\n",
       "      <td>3</td>\n",
       "      <td>5011.0</td>\n",
       "    </tr>\n",
       "    <tr>\n",
       "      <th>4</th>\n",
       "      <td>0</td>\n",
       "      <td>1</td>\n",
       "      <td>1</td>\n",
       "      <td>1.0</td>\n",
       "      <td>1</td>\n",
       "      <td>1</td>\n",
       "      <td>2015</td>\n",
       "      <td>7</td>\n",
       "      <td>27</td>\n",
       "      <td>208</td>\n",
       "      <td>...</td>\n",
       "      <td>0</td>\n",
       "      <td>0</td>\n",
       "      <td>0</td>\n",
       "      <td>0</td>\n",
       "      <td>1</td>\n",
       "      <td>4111.0</td>\n",
       "      <td>4327.0</td>\n",
       "      <td>0</td>\n",
       "      <td>3</td>\n",
       "      <td>6102.0</td>\n",
       "    </tr>\n",
       "  </tbody>\n",
       "</table>\n",
       "<p>5 rows × 28 columns</p>\n",
       "</div>"
      ],
      "text/plain": [
       "   StateHoliday  Store  DayOfWeek  Open  Promo  SchoolHoliday  Year  Month  \\\n",
       "0             0      1          5   1.0      1              1  2015      7   \n",
       "1             0      1          4   1.0      1              1  2015      7   \n",
       "2             0      1          3   1.0      1              1  2015      7   \n",
       "3             0      1          2   1.0      1              1  2015      7   \n",
       "4             0      1          1   1.0      1              1  2015      7   \n",
       "\n",
       "   DayOfMonth  DayOfYear   ...    ThisWeekStholi  NextWeekStholi  \\\n",
       "0          31        212   ...                 0               0   \n",
       "1          30        211   ...                 0               0   \n",
       "2          29        210   ...                 0               0   \n",
       "3          28        209   ...                 0               0   \n",
       "4          27        208   ...                 0               0   \n",
       "\n",
       "   LastWeekScholi  ThisWeekScholi  NextWeekScholi  PrevQSalesMed  \\\n",
       "0               0               0               0         4111.0   \n",
       "1               0               0               0         4111.0   \n",
       "2               0               0               0         4111.0   \n",
       "3               0               1               0         4111.0   \n",
       "4               0               0               1         4111.0   \n",
       "\n",
       "   PrevYSalesMed  Assortment  PromoInterval   Sales  \n",
       "0         4327.0           0              3  5263.0  \n",
       "1         4327.0           0              3  5020.0  \n",
       "2         4327.0           0              3  4782.0  \n",
       "3         4327.0           0              3  5011.0  \n",
       "4         4327.0           0              3  6102.0  \n",
       "\n",
       "[5 rows x 28 columns]"
      ]
     },
     "execution_count": 21,
     "metadata": {},
     "output_type": "execute_result"
    }
   ],
   "source": [
    "train_data.head()"
   ]
  },
  {
   "cell_type": "code",
   "execution_count": 22,
   "metadata": {},
   "outputs": [
    {
     "data": {
      "text/html": [
       "<div>\n",
       "<style>\n",
       "    .dataframe thead tr:only-child th {\n",
       "        text-align: right;\n",
       "    }\n",
       "\n",
       "    .dataframe thead th {\n",
       "        text-align: left;\n",
       "    }\n",
       "\n",
       "    .dataframe tbody tr th {\n",
       "        vertical-align: top;\n",
       "    }\n",
       "</style>\n",
       "<table border=\"1\" class=\"dataframe\">\n",
       "  <thead>\n",
       "    <tr style=\"text-align: right;\">\n",
       "      <th></th>\n",
       "      <th>Id</th>\n",
       "      <th>StateHoliday</th>\n",
       "      <th>Store</th>\n",
       "      <th>DayOfWeek</th>\n",
       "      <th>Open</th>\n",
       "      <th>Promo</th>\n",
       "      <th>SchoolHoliday</th>\n",
       "      <th>Year</th>\n",
       "      <th>Month</th>\n",
       "      <th>DayOfMonth</th>\n",
       "      <th>...</th>\n",
       "      <th>LastWeekStholi</th>\n",
       "      <th>ThisWeekStholi</th>\n",
       "      <th>NextWeekStholi</th>\n",
       "      <th>LastWeekScholi</th>\n",
       "      <th>ThisWeekScholi</th>\n",
       "      <th>NextWeekScholi</th>\n",
       "      <th>PrevQSalesMed</th>\n",
       "      <th>PrevYSalesMed</th>\n",
       "      <th>Assortment</th>\n",
       "      <th>PromoInterval</th>\n",
       "    </tr>\n",
       "  </thead>\n",
       "  <tbody>\n",
       "    <tr>\n",
       "      <th>0</th>\n",
       "      <td>1</td>\n",
       "      <td>0</td>\n",
       "      <td>1</td>\n",
       "      <td>4</td>\n",
       "      <td>1.0</td>\n",
       "      <td>1</td>\n",
       "      <td>0</td>\n",
       "      <td>2015</td>\n",
       "      <td>9</td>\n",
       "      <td>17</td>\n",
       "      <td>...</td>\n",
       "      <td>0</td>\n",
       "      <td>0</td>\n",
       "      <td>1</td>\n",
       "      <td>0</td>\n",
       "      <td>0</td>\n",
       "      <td>1</td>\n",
       "      <td>4111.0</td>\n",
       "      <td>4327.0</td>\n",
       "      <td>0</td>\n",
       "      <td>3</td>\n",
       "    </tr>\n",
       "    <tr>\n",
       "      <th>1</th>\n",
       "      <td>2</td>\n",
       "      <td>0</td>\n",
       "      <td>3</td>\n",
       "      <td>4</td>\n",
       "      <td>1.0</td>\n",
       "      <td>1</td>\n",
       "      <td>0</td>\n",
       "      <td>2015</td>\n",
       "      <td>9</td>\n",
       "      <td>17</td>\n",
       "      <td>...</td>\n",
       "      <td>0</td>\n",
       "      <td>0</td>\n",
       "      <td>1</td>\n",
       "      <td>0</td>\n",
       "      <td>0</td>\n",
       "      <td>1</td>\n",
       "      <td>6253.0</td>\n",
       "      <td>5675.0</td>\n",
       "      <td>0</td>\n",
       "      <td>1</td>\n",
       "    </tr>\n",
       "    <tr>\n",
       "      <th>2</th>\n",
       "      <td>3</td>\n",
       "      <td>0</td>\n",
       "      <td>7</td>\n",
       "      <td>4</td>\n",
       "      <td>1.0</td>\n",
       "      <td>1</td>\n",
       "      <td>0</td>\n",
       "      <td>2015</td>\n",
       "      <td>9</td>\n",
       "      <td>17</td>\n",
       "      <td>...</td>\n",
       "      <td>0</td>\n",
       "      <td>0</td>\n",
       "      <td>1</td>\n",
       "      <td>0</td>\n",
       "      <td>0</td>\n",
       "      <td>1</td>\n",
       "      <td>8168.0</td>\n",
       "      <td>7925.0</td>\n",
       "      <td>2</td>\n",
       "      <td>3</td>\n",
       "    </tr>\n",
       "    <tr>\n",
       "      <th>3</th>\n",
       "      <td>4</td>\n",
       "      <td>0</td>\n",
       "      <td>8</td>\n",
       "      <td>4</td>\n",
       "      <td>1.0</td>\n",
       "      <td>1</td>\n",
       "      <td>0</td>\n",
       "      <td>2015</td>\n",
       "      <td>9</td>\n",
       "      <td>17</td>\n",
       "      <td>...</td>\n",
       "      <td>0</td>\n",
       "      <td>0</td>\n",
       "      <td>1</td>\n",
       "      <td>0</td>\n",
       "      <td>0</td>\n",
       "      <td>1</td>\n",
       "      <td>5752.0</td>\n",
       "      <td>4888.0</td>\n",
       "      <td>0</td>\n",
       "      <td>3</td>\n",
       "    </tr>\n",
       "    <tr>\n",
       "      <th>4</th>\n",
       "      <td>5</td>\n",
       "      <td>0</td>\n",
       "      <td>9</td>\n",
       "      <td>4</td>\n",
       "      <td>1.0</td>\n",
       "      <td>1</td>\n",
       "      <td>0</td>\n",
       "      <td>2015</td>\n",
       "      <td>9</td>\n",
       "      <td>17</td>\n",
       "      <td>...</td>\n",
       "      <td>0</td>\n",
       "      <td>0</td>\n",
       "      <td>1</td>\n",
       "      <td>0</td>\n",
       "      <td>0</td>\n",
       "      <td>1</td>\n",
       "      <td>6937.0</td>\n",
       "      <td>6109.0</td>\n",
       "      <td>2</td>\n",
       "      <td>3</td>\n",
       "    </tr>\n",
       "  </tbody>\n",
       "</table>\n",
       "<p>5 rows × 28 columns</p>\n",
       "</div>"
      ],
      "text/plain": [
       "   Id  StateHoliday  Store  DayOfWeek  Open  Promo  SchoolHoliday  Year  \\\n",
       "0   1             0      1          4   1.0      1              0  2015   \n",
       "1   2             0      3          4   1.0      1              0  2015   \n",
       "2   3             0      7          4   1.0      1              0  2015   \n",
       "3   4             0      8          4   1.0      1              0  2015   \n",
       "4   5             0      9          4   1.0      1              0  2015   \n",
       "\n",
       "   Month  DayOfMonth      ...        LastWeekStholi  ThisWeekStholi  \\\n",
       "0      9          17      ...                     0               0   \n",
       "1      9          17      ...                     0               0   \n",
       "2      9          17      ...                     0               0   \n",
       "3      9          17      ...                     0               0   \n",
       "4      9          17      ...                     0               0   \n",
       "\n",
       "   NextWeekStholi  LastWeekScholi  ThisWeekScholi  NextWeekScholi  \\\n",
       "0               1               0               0               1   \n",
       "1               1               0               0               1   \n",
       "2               1               0               0               1   \n",
       "3               1               0               0               1   \n",
       "4               1               0               0               1   \n",
       "\n",
       "   PrevQSalesMed  PrevYSalesMed  Assortment  PromoInterval  \n",
       "0         4111.0         4327.0           0              3  \n",
       "1         6253.0         5675.0           0              1  \n",
       "2         8168.0         7925.0           2              3  \n",
       "3         5752.0         4888.0           0              3  \n",
       "4         6937.0         6109.0           2              3  \n",
       "\n",
       "[5 rows x 28 columns]"
      ]
     },
     "execution_count": 22,
     "metadata": {},
     "output_type": "execute_result"
    }
   ],
   "source": [
    "test_data.head()"
   ]
  },
  {
   "cell_type": "code",
   "execution_count": 52,
   "metadata": {},
   "outputs": [
    {
     "data": {
      "text/plain": [
       "(844338, 28)"
      ]
     },
     "execution_count": 52,
     "metadata": {},
     "output_type": "execute_result"
    }
   ],
   "source": [
    "no_zeros = train_data[train_data.Sales!=0]\n",
    "no_zeros.shape"
   ]
  },
  {
   "cell_type": "code",
   "execution_count": 55,
   "metadata": {
    "collapsed": true
   },
   "outputs": [],
   "source": [
    "X = train_data[train_data.Sales!=0].drop('Sales',axis=1)\n",
    "y = np.log1p(train_data[train_data.Sales!=0].Sales)"
   ]
  },
  {
   "cell_type": "code",
   "execution_count": 57,
   "metadata": {},
   "outputs": [
    {
     "data": {
      "text/plain": [
       "((802965, 27), (41373, 27))"
      ]
     },
     "execution_count": 57,
     "metadata": {},
     "output_type": "execute_result"
    }
   ],
   "source": [
    "xtrain,xval,ytrain,yval = train_test_split(X,y,test_size=0.049,random_state=40)\n",
    "xtrain.shape,xval.shape"
   ]
  },
  {
   "cell_type": "code",
   "execution_count": 64,
   "metadata": {
    "collapsed": true
   },
   "outputs": [],
   "source": [
    "def rmspe(yvalid,preds):\n",
    "    sums = 0\n",
    "    for y,yhat in zip(yvalid,preds):\n",
    "        sums+=((y-yhat)/y)**2\n",
    "    return np.sqrt(sums/len(yvalid))"
   ]
  },
  {
   "cell_type": "code",
   "execution_count": 65,
   "metadata": {
    "collapsed": true
   },
   "outputs": [],
   "source": [
    "dtrain = xgb.DMatrix(xtrain,ytrain)\n",
    "dvalid = xgb.DMatrix(xval,yval)"
   ]
  },
  {
   "cell_type": "code",
   "execution_count": 67,
   "metadata": {},
   "outputs": [
    {
     "name": "stdout",
     "output_type": "stream",
     "text": [
      "0.512388575074\n"
     ]
    },
    {
     "data": {
      "text/plain": [
       "19.34966468811035"
      ]
     },
     "execution_count": 67,
     "metadata": {},
     "output_type": "execute_result"
    }
   ],
   "source": [
    "param = {\n",
    "        'eta':0.35,'max_depth':16,'subsample':0.9,'colsample_bytree':0.9,'lamdba':0.3,'alpha':0.8,\\\n",
    "        'min_child_weight':3,'num_boost_round':100,'objective':'reg:linear','booster':'gbtree',\\\n",
    "        'tree_method':'hist','max_bin':150\n",
    "    }\n",
    "start = time()\n",
    "bst = xgb.train(param,dtrain,30)\n",
    "preds = np.expm1(bst.predict(dvalid))\n",
    "print(rmspe(np.expm1(yval),preds))\n",
    "time()-start"
   ]
  },
  {
   "cell_type": "code",
   "execution_count": 53,
   "metadata": {},
   "outputs": [
    {
     "name": "stdout",
     "output_type": "stream",
     "text": [
      "0.0794623333333\n"
     ]
    },
    {
     "data": {
      "text/plain": [
       "25.085363149642944"
      ]
     },
     "execution_count": 53,
     "metadata": {},
     "output_type": "execute_result"
    }
   ],
   "source": [
    "start = time()\n",
    "print(testInstance(population,1,dtrain))\n",
    "time() - start"
   ]
  },
  {
   "cell_type": "code",
   "execution_count": 28,
   "metadata": {},
   "outputs": [
    {
     "data": {
      "text/plain": [
       "'0.7'"
      ]
     },
     "execution_count": 28,
     "metadata": {},
     "output_type": "execute_result"
    }
   ],
   "source": [
    "xgb.__version__"
   ]
  },
  {
   "cell_type": "code",
   "execution_count": 42,
   "metadata": {},
   "outputs": [
    {
     "name": "stdout",
     "output_type": "stream",
     "text": [
      "Generation 0\n",
      "\n",
      "testing instance 3\n",
      "--Fitness 0.076392 \n",
      "\n",
      "testing instance 4\n",
      "--Fitness 0.097412 \n",
      "\n",
      "testing instance 5\n",
      "--Fitness 0.075875 \n",
      "\n",
      "testing instance 6\n",
      "--Fitness 0.080374 \n",
      "\n",
      "testing instance 7\n",
      "--Fitness 0.116978 \n",
      "\n",
      "testing instance 8\n",
      "--Fitness 0.092855 \n",
      "\n",
      "testing instance 9\n",
      "--Fitness 0.085979 \n",
      "\n",
      "testing instance 10\n",
      "--Fitness 0.091703 \n",
      "\n",
      "testing instance 11\n",
      "--Fitness 0.084807 \n",
      "\n",
      "testing instance 12\n",
      "--Fitness 0.090659 \n",
      "\n",
      "testing instance 13\n",
      "--Fitness 0.086307 \n",
      "\n",
      "testing instance 14\n",
      "--Fitness 0.079978 \n",
      "\n",
      "testing instance 15\n",
      "--Fitness 0.089943 \n",
      "\n",
      "testing instance 16\n",
      "--Fitness 0.086818 \n",
      "\n",
      "testing instance 17\n",
      "--Fitness 0.083096 \n",
      "\n",
      "testing instance 18\n",
      "--Fitness 0.077412 \n",
      "\n",
      "testing instance 19\n",
      "--Fitness 0.090244 \n",
      "\n",
      "testing instance 20\n",
      "--Fitness 0.073672 \n",
      "\n",
      "testing instance 21\n",
      "--Fitness 0.083982 \n",
      "\n",
      "testing instance 22\n",
      "--Fitness 0.067914 \n",
      "\n",
      "testing instance 23\n",
      "--Fitness 0.079584 \n",
      "\n",
      "testing instance 24\n",
      "--Fitness 0.070516 \n",
      "\n",
      "testing instance 25\n",
      "--Fitness 0.101354 \n",
      "\n",
      "testing instance 26\n",
      "--Fitness 0.091831 \n",
      "\n",
      "testing instance 27\n",
      "--Fitness 0.070210 \n",
      "\n",
      "testing instance 28\n",
      "--Fitness 0.080093 \n",
      "\n",
      "testing instance 29\n",
      "--Fitness 0.079000 \n",
      "\n",
      "Generation 0 Best fitness (3-fold mae cv): 0.067914\n",
      "Generation 1\n",
      "\n",
      "testing instance 3\n",
      "--Fitness 0.075529 \n",
      "\n",
      "testing instance 4\n",
      "--Fitness 0.087591 \n",
      "\n",
      "testing instance 5\n",
      "--Fitness 0.081003 \n",
      "\n",
      "testing instance 6\n",
      "--Fitness 0.072466 \n",
      "\n",
      "testing instance 7\n"
     ]
    },
    {
     "ename": "KeyboardInterrupt",
     "evalue": "",
     "output_type": "error",
     "traceback": [
      "\u001b[1;31m---------------------------------------------------------------------------\u001b[0m",
      "\u001b[1;31mKeyboardInterrupt\u001b[0m                         Traceback (most recent call last)",
      "\u001b[1;32m<ipython-input-42-b0f3037e6b6d>\u001b[0m in \u001b[0;36m<module>\u001b[1;34m()\u001b[0m\n\u001b[1;32m----> 1\u001b[1;33m \u001b[0mevolve\u001b[0m\u001b[1;33m(\u001b[0m\u001b[0mdtrain\u001b[0m\u001b[1;33m)\u001b[0m\u001b[1;33m\u001b[0m\u001b[0m\n\u001b[0m",
      "\u001b[1;32m<ipython-input-39-2744173242e4>\u001b[0m in \u001b[0;36mevolve\u001b[1;34m(dtrain, nGeneration, popSize, eliteSize, population)\u001b[0m\n\u001b[0;32m      6\u001b[0m         \u001b[1;32mfor\u001b[0m \u001b[0mi\u001b[0m \u001b[1;32min\u001b[0m \u001b[0mrange\u001b[0m\u001b[1;33m(\u001b[0m\u001b[0mnElite\u001b[0m\u001b[1;33m,\u001b[0m\u001b[0mpopSize\u001b[0m\u001b[1;33m)\u001b[0m\u001b[1;33m:\u001b[0m\u001b[1;33m\u001b[0m\u001b[0m\n\u001b[0;32m      7\u001b[0m             \u001b[0mprint\u001b[0m\u001b[1;33m(\u001b[0m\u001b[1;34m'testing instance %d'\u001b[0m \u001b[1;33m%\u001b[0m\u001b[0mi\u001b[0m\u001b[1;33m)\u001b[0m\u001b[1;33m\u001b[0m\u001b[0m\n\u001b[1;32m----> 8\u001b[1;33m             \u001b[0mpopulation\u001b[0m\u001b[1;33m.\u001b[0m\u001b[0mloc\u001b[0m\u001b[1;33m[\u001b[0m\u001b[0mi\u001b[0m\u001b[1;33m,\u001b[0m\u001b[1;34m'fitness'\u001b[0m\u001b[1;33m]\u001b[0m \u001b[1;33m=\u001b[0m \u001b[0mtestInstance\u001b[0m\u001b[1;33m(\u001b[0m\u001b[0mpopulation\u001b[0m\u001b[1;33m,\u001b[0m\u001b[0mi\u001b[0m\u001b[1;33m,\u001b[0m\u001b[0mdtrain\u001b[0m\u001b[1;33m)\u001b[0m\u001b[1;33m\u001b[0m\u001b[0m\n\u001b[0m\u001b[0;32m      9\u001b[0m             \u001b[0mprint\u001b[0m\u001b[1;33m(\u001b[0m\u001b[1;34m'--Fitness %f \\n'\u001b[0m \u001b[1;33m%\u001b[0m\u001b[0mpopulation\u001b[0m\u001b[1;33m.\u001b[0m\u001b[0mfitness\u001b[0m\u001b[1;33m[\u001b[0m\u001b[0mi\u001b[0m\u001b[1;33m]\u001b[0m\u001b[1;33m)\u001b[0m\u001b[1;33m\u001b[0m\u001b[0m\n\u001b[0;32m     10\u001b[0m         \u001b[0mpopulation\u001b[0m\u001b[1;33m.\u001b[0m\u001b[0msort_values\u001b[0m\u001b[1;33m(\u001b[0m\u001b[1;33m[\u001b[0m\u001b[1;34m'fitness'\u001b[0m\u001b[1;33m]\u001b[0m\u001b[1;33m,\u001b[0m\u001b[0mascending\u001b[0m\u001b[1;33m=\u001b[0m\u001b[1;32mTrue\u001b[0m\u001b[1;33m,\u001b[0m\u001b[0minplace\u001b[0m\u001b[1;33m=\u001b[0m\u001b[1;32mTrue\u001b[0m\u001b[1;33m)\u001b[0m\u001b[1;33m\u001b[0m\u001b[0m\n",
      "\u001b[1;32m<ipython-input-38-cf60fb6d313d>\u001b[0m in \u001b[0;36mtestInstance\u001b[1;34m(population, i, dtrain)\u001b[0m\n\u001b[0;32m     21\u001b[0m         \u001b[0mnfold\u001b[0m\u001b[1;33m=\u001b[0m\u001b[1;36m3\u001b[0m\u001b[1;33m,\u001b[0m\u001b[1;33m\u001b[0m\u001b[0m\n\u001b[0;32m     22\u001b[0m         \u001b[0mverbose_eval\u001b[0m \u001b[1;33m=\u001b[0m \u001b[1;32mFalse\u001b[0m\u001b[1;33m,\u001b[0m\u001b[1;33m\u001b[0m\u001b[0m\n\u001b[1;32m---> 23\u001b[1;33m         \u001b[0mmetrics\u001b[0m \u001b[1;33m=\u001b[0m \u001b[1;34m'mae'\u001b[0m\u001b[1;33m\u001b[0m\u001b[0m\n\u001b[0m\u001b[0;32m     24\u001b[0m         )\n\u001b[0;32m     25\u001b[0m     \u001b[1;32mreturn\u001b[0m \u001b[0mhistory\u001b[0m\u001b[1;33m[\u001b[0m\u001b[1;34m'test-mae-mean'\u001b[0m\u001b[1;33m]\u001b[0m\u001b[1;33m.\u001b[0m\u001b[0miloc\u001b[0m\u001b[1;33m[\u001b[0m\u001b[1;33m-\u001b[0m\u001b[1;36m1\u001b[0m\u001b[1;33m]\u001b[0m\u001b[1;33m\u001b[0m\u001b[0m\n",
      "\u001b[1;32mD:\\Anaconda\\envs\\tensorflow-gpu-1.4\\lib\\site-packages\\xgboost\\training.py\u001b[0m in \u001b[0;36mcv\u001b[1;34m(params, dtrain, num_boost_round, nfold, stratified, folds, metrics, obj, feval, maximize, early_stopping_rounds, fpreproc, as_pandas, verbose_eval, show_stdv, seed, callbacks, shuffle)\u001b[0m\n\u001b[0;32m    404\u001b[0m                            evaluation_result_list=None))\n\u001b[0;32m    405\u001b[0m         \u001b[1;32mfor\u001b[0m \u001b[0mfold\u001b[0m \u001b[1;32min\u001b[0m \u001b[0mcvfolds\u001b[0m\u001b[1;33m:\u001b[0m\u001b[1;33m\u001b[0m\u001b[0m\n\u001b[1;32m--> 406\u001b[1;33m             \u001b[0mfold\u001b[0m\u001b[1;33m.\u001b[0m\u001b[0mupdate\u001b[0m\u001b[1;33m(\u001b[0m\u001b[0mi\u001b[0m\u001b[1;33m,\u001b[0m \u001b[0mobj\u001b[0m\u001b[1;33m)\u001b[0m\u001b[1;33m\u001b[0m\u001b[0m\n\u001b[0m\u001b[0;32m    407\u001b[0m         \u001b[0mres\u001b[0m \u001b[1;33m=\u001b[0m \u001b[0maggcv\u001b[0m\u001b[1;33m(\u001b[0m\u001b[1;33m[\u001b[0m\u001b[0mf\u001b[0m\u001b[1;33m.\u001b[0m\u001b[0meval\u001b[0m\u001b[1;33m(\u001b[0m\u001b[0mi\u001b[0m\u001b[1;33m,\u001b[0m \u001b[0mfeval\u001b[0m\u001b[1;33m)\u001b[0m \u001b[1;32mfor\u001b[0m \u001b[0mf\u001b[0m \u001b[1;32min\u001b[0m \u001b[0mcvfolds\u001b[0m\u001b[1;33m]\u001b[0m\u001b[1;33m)\u001b[0m\u001b[1;33m\u001b[0m\u001b[0m\n\u001b[0;32m    408\u001b[0m \u001b[1;33m\u001b[0m\u001b[0m\n",
      "\u001b[1;32mD:\\Anaconda\\envs\\tensorflow-gpu-1.4\\lib\\site-packages\\xgboost\\training.py\u001b[0m in \u001b[0;36mupdate\u001b[1;34m(self, iteration, fobj)\u001b[0m\n\u001b[0;32m    216\u001b[0m     \u001b[1;32mdef\u001b[0m \u001b[0mupdate\u001b[0m\u001b[1;33m(\u001b[0m\u001b[0mself\u001b[0m\u001b[1;33m,\u001b[0m \u001b[0miteration\u001b[0m\u001b[1;33m,\u001b[0m \u001b[0mfobj\u001b[0m\u001b[1;33m)\u001b[0m\u001b[1;33m:\u001b[0m\u001b[1;33m\u001b[0m\u001b[0m\n\u001b[0;32m    217\u001b[0m         \u001b[1;34m\"\"\"\"Update the boosters for one iteration\"\"\"\u001b[0m\u001b[1;33m\u001b[0m\u001b[0m\n\u001b[1;32m--> 218\u001b[1;33m         \u001b[0mself\u001b[0m\u001b[1;33m.\u001b[0m\u001b[0mbst\u001b[0m\u001b[1;33m.\u001b[0m\u001b[0mupdate\u001b[0m\u001b[1;33m(\u001b[0m\u001b[0mself\u001b[0m\u001b[1;33m.\u001b[0m\u001b[0mdtrain\u001b[0m\u001b[1;33m,\u001b[0m \u001b[0miteration\u001b[0m\u001b[1;33m,\u001b[0m \u001b[0mfobj\u001b[0m\u001b[1;33m)\u001b[0m\u001b[1;33m\u001b[0m\u001b[0m\n\u001b[0m\u001b[0;32m    219\u001b[0m \u001b[1;33m\u001b[0m\u001b[0m\n\u001b[0;32m    220\u001b[0m     \u001b[1;32mdef\u001b[0m \u001b[0meval\u001b[0m\u001b[1;33m(\u001b[0m\u001b[0mself\u001b[0m\u001b[1;33m,\u001b[0m \u001b[0miteration\u001b[0m\u001b[1;33m,\u001b[0m \u001b[0mfeval\u001b[0m\u001b[1;33m)\u001b[0m\u001b[1;33m:\u001b[0m\u001b[1;33m\u001b[0m\u001b[0m\n",
      "\u001b[1;32mD:\\Anaconda\\envs\\tensorflow-gpu-1.4\\lib\\site-packages\\xgboost\\core.py\u001b[0m in \u001b[0;36mupdate\u001b[1;34m(self, dtrain, iteration, fobj)\u001b[0m\n\u001b[0;32m    896\u001b[0m         \u001b[1;32mif\u001b[0m \u001b[0mfobj\u001b[0m \u001b[1;32mis\u001b[0m \u001b[1;32mNone\u001b[0m\u001b[1;33m:\u001b[0m\u001b[1;33m\u001b[0m\u001b[0m\n\u001b[0;32m    897\u001b[0m             _check_call(_LIB.XGBoosterUpdateOneIter(self.handle, ctypes.c_int(iteration),\n\u001b[1;32m--> 898\u001b[1;33m                                                     dtrain.handle))\n\u001b[0m\u001b[0;32m    899\u001b[0m         \u001b[1;32melse\u001b[0m\u001b[1;33m:\u001b[0m\u001b[1;33m\u001b[0m\u001b[0m\n\u001b[0;32m    900\u001b[0m             \u001b[0mpred\u001b[0m \u001b[1;33m=\u001b[0m \u001b[0mself\u001b[0m\u001b[1;33m.\u001b[0m\u001b[0mpredict\u001b[0m\u001b[1;33m(\u001b[0m\u001b[0mdtrain\u001b[0m\u001b[1;33m)\u001b[0m\u001b[1;33m\u001b[0m\u001b[0m\n",
      "\u001b[1;31mKeyboardInterrupt\u001b[0m: "
     ]
    }
   ],
   "source": [
    "evolve(dtrain)"
   ]
  },
  {
   "cell_type": "code",
   "execution_count": 43,
   "metadata": {},
   "outputs": [
    {
     "data": {
      "text/plain": [
       "720672    8.718991\n",
       "857309    8.819961\n",
       "185503    9.447623\n",
       "964085    8.682369\n",
       "794950    8.875706\n",
       "Name: Sales, dtype: float64"
      ]
     },
     "execution_count": 43,
     "metadata": {},
     "output_type": "execute_result"
    }
   ],
   "source": [
    "ytrain.head()"
   ]
  },
  {
   "cell_type": "code",
   "execution_count": 44,
   "metadata": {},
   "outputs": [
    {
     "data": {
      "text/plain": [
       "True"
      ]
     },
     "execution_count": 44,
     "metadata": {},
     "output_type": "execute_result"
    }
   ],
   "source": [
    "ytrain.any(0)"
   ]
  },
  {
   "cell_type": "code",
   "execution_count": 45,
   "metadata": {
    "collapsed": true
   },
   "outputs": [],
   "source": [
    "from collections import Counter"
   ]
  },
  {
   "cell_type": "code",
   "execution_count": 49,
   "metadata": {},
   "outputs": [
    {
     "data": {
      "text/plain": [
       "165592"
      ]
     },
     "execution_count": 49,
     "metadata": {},
     "output_type": "execute_result"
    }
   ],
   "source": [
    "c = Counter(ytrain)\n",
    "c[0]"
   ]
  },
  {
   "cell_type": "code",
   "execution_count": 51,
   "metadata": {},
   "outputs": [
    {
     "data": {
      "text/plain": [
       "809911"
      ]
     },
     "execution_count": 51,
     "metadata": {},
     "output_type": "execute_result"
    }
   ],
   "source": [
    "ytrain.shape[0]-c[0]"
   ]
  },
  {
   "cell_type": "code",
   "execution_count": null,
   "metadata": {
    "collapsed": true
   },
   "outputs": [],
   "source": []
  }
 ],
 "metadata": {
  "kernelspec": {
   "display_name": "Python 3",
   "language": "python",
   "name": "python3"
  },
  "language_info": {
   "codemirror_mode": {
    "name": "ipython",
    "version": 3
   },
   "file_extension": ".py",
   "mimetype": "text/x-python",
   "name": "python",
   "nbconvert_exporter": "python",
   "pygments_lexer": "ipython3",
   "version": "3.6.3"
  }
 },
 "nbformat": 4,
 "nbformat_minor": 2
}
