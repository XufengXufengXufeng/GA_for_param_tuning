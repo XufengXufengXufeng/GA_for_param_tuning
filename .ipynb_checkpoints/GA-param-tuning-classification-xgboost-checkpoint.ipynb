{
 "cells": [
  {
   "cell_type": "code",
   "execution_count": 68,
   "metadata": {
    "collapsed": true
   },
   "outputs": [],
   "source": [
    "import pandas as pd\n",
    "import numpy as np\n",
    "import xgboost as xgb\n",
    "from random import randint,uniform\n",
    "from sklearn.model_selection import train_test_split\n",
    "from time import time\n",
    "from sklearn.preprocessing import LabelEncoder"
   ]
  },
  {
   "cell_type": "code",
   "execution_count": 3,
   "metadata": {
    "collapsed": true
   },
   "outputs": [],
   "source": [
    "popSize = 30\n",
    "eliteSize = 0.1\n",
    "mutation_rate = 0.2\n",
    "nGeneration = 100"
   ]
  },
  {
   "cell_type": "code",
   "execution_count": 4,
   "metadata": {},
   "outputs": [],
   "source": [
    "paramList = ['depth','max_bin','eta','gamma','min_child_weight','colsample_bytree','subsample',\\\n",
    "            'fitness']\n",
    "population = pd.DataFrame(np.zeros(shape=(popSize,len(paramList))),columns=paramList)\n",
    "population.depth = [randint(6,15) for p in range(0,popSize)]\n",
    "population.max_bin = [randint(80,150) for p in range(0,popSize)]\n",
    "population.eta = [uniform(0.1,1) for p in range(0,popSize)]\n",
    "population.gamma = [uniform(0.01,0.03) for p in range(0,popSize)]\n",
    "population.min_child_weight = [randint(1,20) for p in range(0,popSize)]\n",
    "population.colsample_bytree = [uniform(0.7,0.95) for p in range(0,popSize)]\n",
    "population.subsample = [uniform(0.7,0.95) for p in range(0,popSize)]\n",
    "population.fitness = [uniform(100,100) for p in range(0,popSize)]"
   ]
  },
  {
   "cell_type": "code",
   "execution_count": 5,
   "metadata": {
    "scrolled": true
   },
   "outputs": [
    {
     "data": {
      "text/html": [
       "<div>\n",
       "<style>\n",
       "    .dataframe thead tr:only-child th {\n",
       "        text-align: right;\n",
       "    }\n",
       "\n",
       "    .dataframe thead th {\n",
       "        text-align: left;\n",
       "    }\n",
       "\n",
       "    .dataframe tbody tr th {\n",
       "        vertical-align: top;\n",
       "    }\n",
       "</style>\n",
       "<table border=\"1\" class=\"dataframe\">\n",
       "  <thead>\n",
       "    <tr style=\"text-align: right;\">\n",
       "      <th></th>\n",
       "      <th>depth</th>\n",
       "      <th>max_bin</th>\n",
       "      <th>eta</th>\n",
       "      <th>gamma</th>\n",
       "      <th>min_child_weight</th>\n",
       "      <th>colsample_bytree</th>\n",
       "      <th>subsample</th>\n",
       "      <th>fitness</th>\n",
       "    </tr>\n",
       "  </thead>\n",
       "  <tbody>\n",
       "    <tr>\n",
       "      <th>0</th>\n",
       "      <td>13</td>\n",
       "      <td>85</td>\n",
       "      <td>0.585907</td>\n",
       "      <td>0.020017</td>\n",
       "      <td>13</td>\n",
       "      <td>0.804254</td>\n",
       "      <td>0.822173</td>\n",
       "      <td>100.0</td>\n",
       "    </tr>\n",
       "    <tr>\n",
       "      <th>1</th>\n",
       "      <td>13</td>\n",
       "      <td>94</td>\n",
       "      <td>0.992587</td>\n",
       "      <td>0.018321</td>\n",
       "      <td>2</td>\n",
       "      <td>0.864237</td>\n",
       "      <td>0.713242</td>\n",
       "      <td>100.0</td>\n",
       "    </tr>\n",
       "    <tr>\n",
       "      <th>2</th>\n",
       "      <td>14</td>\n",
       "      <td>139</td>\n",
       "      <td>0.218783</td>\n",
       "      <td>0.029458</td>\n",
       "      <td>16</td>\n",
       "      <td>0.880375</td>\n",
       "      <td>0.906083</td>\n",
       "      <td>100.0</td>\n",
       "    </tr>\n",
       "    <tr>\n",
       "      <th>3</th>\n",
       "      <td>7</td>\n",
       "      <td>137</td>\n",
       "      <td>0.972050</td>\n",
       "      <td>0.028656</td>\n",
       "      <td>9</td>\n",
       "      <td>0.768531</td>\n",
       "      <td>0.830018</td>\n",
       "      <td>100.0</td>\n",
       "    </tr>\n",
       "    <tr>\n",
       "      <th>4</th>\n",
       "      <td>13</td>\n",
       "      <td>101</td>\n",
       "      <td>0.540155</td>\n",
       "      <td>0.022369</td>\n",
       "      <td>12</td>\n",
       "      <td>0.870652</td>\n",
       "      <td>0.913449</td>\n",
       "      <td>100.0</td>\n",
       "    </tr>\n",
       "  </tbody>\n",
       "</table>\n",
       "</div>"
      ],
      "text/plain": [
       "   depth  max_bin       eta     gamma  min_child_weight  colsample_bytree  \\\n",
       "0     13       85  0.585907  0.020017                13          0.804254   \n",
       "1     13       94  0.992587  0.018321                 2          0.864237   \n",
       "2     14      139  0.218783  0.029458                16          0.880375   \n",
       "3      7      137  0.972050  0.028656                 9          0.768531   \n",
       "4     13      101  0.540155  0.022369                12          0.870652   \n",
       "\n",
       "   subsample  fitness  \n",
       "0   0.822173    100.0  \n",
       "1   0.713242    100.0  \n",
       "2   0.906083    100.0  \n",
       "3   0.830018    100.0  \n",
       "4   0.913449    100.0  "
      ]
     },
     "execution_count": 5,
     "metadata": {},
     "output_type": "execute_result"
    }
   ],
   "source": [
    "population.head()"
   ]
  },
  {
   "cell_type": "code",
   "execution_count": 6,
   "metadata": {},
   "outputs": [
    {
     "data": {
      "text/plain": [
       "(30, 8)"
      ]
     },
     "execution_count": 6,
     "metadata": {},
     "output_type": "execute_result"
    }
   ],
   "source": [
    "population.shape"
   ]
  },
  {
   "cell_type": "code",
   "execution_count": 7,
   "metadata": {
    "collapsed": true
   },
   "outputs": [],
   "source": [
    "def createNewPopulation(population,eliteSize=eliteSize,mutation_rate=mutation_rate,popSize=popSize):\n",
    "    population.sort_values(['fitness'],ascending=True,inplace=True)\n",
    "    population.reset_index(drop=True,inplace=True)\n",
    "    popSize = population.shape[0]\n",
    "    nElite = int(round(eliteSize*popSize))\n",
    "    \n",
    "    new_population = population.copy(deep=True)\n",
    "    for i in range(nElite,popSize):\n",
    "        # create father and mother\n",
    "        p1 = randint(0,int(popSize/2))\n",
    "        p2 = randint(0,int(popSize/2))\n",
    "        \n",
    "        for attr in list(new_population.columns.values):\n",
    "            if(uniform(0,1)>0.5):\n",
    "                new_population.loc[i,attr] = population.loc[p1,attr]\n",
    "            else:\n",
    "                new_population.loc[i,attr] = population.loc[p2,attr]\n",
    "                \n",
    "            if(uniform(0,1)<mutation_rate):\n",
    "                attr = list(new_population.columns.values)[randint(0,new_population.shape[1]-2)]\n",
    "                if(attr=='depth'):\n",
    "                    new_population.loc[i,attr] = max(3,new_population.loc[i,attr]+randint(-2,2))\n",
    "                elif(attr=='max_bin'):\n",
    "                    new_population.loc[i,attr] = max(70,new_population.loc[i,attr]+randint(-20,20))\n",
    "                elif(attr=='eta'):\n",
    "                    new_population.loc[i,attr] = max(0.1,new_population.loc[i,attr]+uniform(-0.05,0.05))\n",
    "                elif(attr=='gamma'):\n",
    "                    new_population.loc[i,attr] = max(0.1,new_population.loc[i,attr]+uniform(-0.005,0.005))\n",
    "                elif(attr=='min_child_weight'):\n",
    "                    new_population.loc[i,attr] = max(0,new_population.loc[i,attr]+randint(-2,2))\n",
    "                elif(attr=='colsample_bytree'):\n",
    "                    new_population.loc[i,attr] = min(max(0.6,new_population.loc[i,attr]+uniform(-0.05,0.05)),1)\n",
    "                elif(attr=='subsample'):\n",
    "                    new_population.loc[i,attr] = min(max(0.6,new_population.loc[i,attr]+uniform(-0.05,0.05)),1)\n",
    "    return new_population"
   ]
  },
  {
   "cell_type": "code",
   "execution_count": 42,
   "metadata": {
    "collapsed": true
   },
   "outputs": [],
   "source": [
    "def testInstance(population,i,dtrain,num_class):\n",
    "    params = {\n",
    "        'objective':'binary:logitraw',\n",
    "        'tree_method':'hist',\n",
    "        'eta':population.eta[i],\n",
    "        'max_depth':population.depth[i],\n",
    "        'subsample':population.subsample[i],\n",
    "        'colsample_bytree':population.colsample_bytree[i],\n",
    "        'max_bin':population.max_bin[i],\n",
    "        'gamma':population.gamma[i],\n",
    "        'min_child_weight':population.min_child_weight[i],\n",
    "        'silent':1,\n",
    "        'seed':401,\n",
    "        'num_class':num_class\n",
    "    }\n",
    "    history = xgb.cv(\n",
    "        params,\n",
    "        dtrain,\n",
    "        num_boost_round = 30,\n",
    "        nfold=3,\n",
    "        verbose_eval = False,\n",
    "        metrics = 'auc'\n",
    "        )\n",
    "    return history['test-auc-mean'].iloc[-1]"
   ]
  },
  {
   "cell_type": "code",
   "execution_count": 10,
   "metadata": {
    "collapsed": true
   },
   "outputs": [],
   "source": [
    "def printResult(filename,population,i,generation):\n",
    "    f1 = open(filename,'a')\n",
    "    f1.write('Generation %d Best fitness %f\\n' % (generation,population.fitness[i]))\n",
    "    f1.write('\"eta\":%f\\n' % population.eta[i])\n",
    "    f1.write('\"max_depth\":%f\\n' %population.depth[i])\n",
    "    f1.write('\"subsample\":%f\\n' %population.subsample[i])\n",
    "    f1.write('\"colsample_bytree\":%f\\n' %population.colsample_bytree[i])\n",
    "    f1.write('\"min_child_weight\":%f\\n' %population.min_child_weight[i])\n",
    "    f1.write('\"max_bin\":%f\\n' %population.max_bin[i])\n",
    "    f1.close()"
   ]
  },
  {
   "cell_type": "code",
   "execution_count": 12,
   "metadata": {
    "collapsed": true
   },
   "outputs": [],
   "source": [
    "def evolve(dtrain,nGeneration=nGeneration,popSize=popSize,eliteSize=eliteSize,population=population):\n",
    "    for gen in range(nGeneration):\n",
    "        print('Generation %d\\n' %gen)\n",
    "        population = createNewPopulation(population)\n",
    "        nElite = int(round(eliteSize*popSize))\n",
    "        for i in range(nElite,popSize):\n",
    "            print('testing instance %d' %i)\n",
    "            population.loc[i,'fitness'] = testInstance(population,i,dtrain)\n",
    "            print('--Fitness %f \\n' %population.fitness[i])\n",
    "        population.sort_values(['fitness'],ascending=True,inplace=True)\n",
    "        population.reset_index(drop=True,inplace=True)\n",
    "        printResult('xgb_result.txt',population,0,gen)\n",
    "        print('Generation %d Best fitness (5-fold mae cv): %f' %(gen,population.fitness[0]))"
   ]
  },
  {
   "cell_type": "code",
   "execution_count": 44,
   "metadata": {},
   "outputs": [],
   "source": [
    "data = pd.read_csv('titanic_data.csv')"
   ]
  },
  {
   "cell_type": "code",
   "execution_count": 45,
   "metadata": {},
   "outputs": [
    {
     "data": {
      "text/html": [
       "<div>\n",
       "<style>\n",
       "    .dataframe thead tr:only-child th {\n",
       "        text-align: right;\n",
       "    }\n",
       "\n",
       "    .dataframe thead th {\n",
       "        text-align: left;\n",
       "    }\n",
       "\n",
       "    .dataframe tbody tr th {\n",
       "        vertical-align: top;\n",
       "    }\n",
       "</style>\n",
       "<table border=\"1\" class=\"dataframe\">\n",
       "  <thead>\n",
       "    <tr style=\"text-align: right;\">\n",
       "      <th></th>\n",
       "      <th>PassengerId</th>\n",
       "      <th>Survived</th>\n",
       "      <th>Pclass</th>\n",
       "      <th>Name</th>\n",
       "      <th>Sex</th>\n",
       "      <th>Age</th>\n",
       "      <th>SibSp</th>\n",
       "      <th>Parch</th>\n",
       "      <th>Ticket</th>\n",
       "      <th>Fare</th>\n",
       "      <th>Cabin</th>\n",
       "      <th>Embarked</th>\n",
       "    </tr>\n",
       "  </thead>\n",
       "  <tbody>\n",
       "    <tr>\n",
       "      <th>0</th>\n",
       "      <td>1</td>\n",
       "      <td>0</td>\n",
       "      <td>3</td>\n",
       "      <td>Braund, Mr. Owen Harris</td>\n",
       "      <td>male</td>\n",
       "      <td>22.0</td>\n",
       "      <td>1</td>\n",
       "      <td>0</td>\n",
       "      <td>A/5 21171</td>\n",
       "      <td>7.2500</td>\n",
       "      <td>NaN</td>\n",
       "      <td>S</td>\n",
       "    </tr>\n",
       "    <tr>\n",
       "      <th>1</th>\n",
       "      <td>2</td>\n",
       "      <td>1</td>\n",
       "      <td>1</td>\n",
       "      <td>Cumings, Mrs. John Bradley (Florence Briggs Th...</td>\n",
       "      <td>female</td>\n",
       "      <td>38.0</td>\n",
       "      <td>1</td>\n",
       "      <td>0</td>\n",
       "      <td>PC 17599</td>\n",
       "      <td>71.2833</td>\n",
       "      <td>C85</td>\n",
       "      <td>C</td>\n",
       "    </tr>\n",
       "    <tr>\n",
       "      <th>2</th>\n",
       "      <td>3</td>\n",
       "      <td>1</td>\n",
       "      <td>3</td>\n",
       "      <td>Heikkinen, Miss. Laina</td>\n",
       "      <td>female</td>\n",
       "      <td>26.0</td>\n",
       "      <td>0</td>\n",
       "      <td>0</td>\n",
       "      <td>STON/O2. 3101282</td>\n",
       "      <td>7.9250</td>\n",
       "      <td>NaN</td>\n",
       "      <td>S</td>\n",
       "    </tr>\n",
       "    <tr>\n",
       "      <th>3</th>\n",
       "      <td>4</td>\n",
       "      <td>1</td>\n",
       "      <td>1</td>\n",
       "      <td>Futrelle, Mrs. Jacques Heath (Lily May Peel)</td>\n",
       "      <td>female</td>\n",
       "      <td>35.0</td>\n",
       "      <td>1</td>\n",
       "      <td>0</td>\n",
       "      <td>113803</td>\n",
       "      <td>53.1000</td>\n",
       "      <td>C123</td>\n",
       "      <td>S</td>\n",
       "    </tr>\n",
       "    <tr>\n",
       "      <th>4</th>\n",
       "      <td>5</td>\n",
       "      <td>0</td>\n",
       "      <td>3</td>\n",
       "      <td>Allen, Mr. William Henry</td>\n",
       "      <td>male</td>\n",
       "      <td>35.0</td>\n",
       "      <td>0</td>\n",
       "      <td>0</td>\n",
       "      <td>373450</td>\n",
       "      <td>8.0500</td>\n",
       "      <td>NaN</td>\n",
       "      <td>S</td>\n",
       "    </tr>\n",
       "  </tbody>\n",
       "</table>\n",
       "</div>"
      ],
      "text/plain": [
       "   PassengerId  Survived  Pclass  \\\n",
       "0            1         0       3   \n",
       "1            2         1       1   \n",
       "2            3         1       3   \n",
       "3            4         1       1   \n",
       "4            5         0       3   \n",
       "\n",
       "                                                Name     Sex   Age  SibSp  \\\n",
       "0                            Braund, Mr. Owen Harris    male  22.0      1   \n",
       "1  Cumings, Mrs. John Bradley (Florence Briggs Th...  female  38.0      1   \n",
       "2                             Heikkinen, Miss. Laina  female  26.0      0   \n",
       "3       Futrelle, Mrs. Jacques Heath (Lily May Peel)  female  35.0      1   \n",
       "4                           Allen, Mr. William Henry    male  35.0      0   \n",
       "\n",
       "   Parch            Ticket     Fare Cabin Embarked  \n",
       "0      0         A/5 21171   7.2500   NaN        S  \n",
       "1      0          PC 17599  71.2833   C85        C  \n",
       "2      0  STON/O2. 3101282   7.9250   NaN        S  \n",
       "3      0            113803  53.1000  C123        S  \n",
       "4      0            373450   8.0500   NaN        S  "
      ]
     },
     "execution_count": 45,
     "metadata": {},
     "output_type": "execute_result"
    }
   ],
   "source": [
    "data.head()"
   ]
  },
  {
   "cell_type": "code",
   "execution_count": 61,
   "metadata": {},
   "outputs": [
    {
     "name": "stdout",
     "output_type": "stream",
     "text": [
      "PassengerId 0\n",
      "Survived 0\n",
      "Pclass 0\n",
      "Name 0\n",
      "Sex 0\n",
      "Age 177\n",
      "SibSp 0\n",
      "Parch 0\n",
      "Ticket 0\n",
      "Fare 0\n",
      "Cabin 687\n",
      "Embarked 2\n"
     ]
    }
   ],
   "source": [
    "for col in data.columns.values:\n",
    "    print(col,sum(data[col].isnull()))"
   ]
  },
  {
   "cell_type": "code",
   "execution_count": 63,
   "metadata": {},
   "outputs": [],
   "source": [
    "data.Age.fillna(np.mean,inplace=True)"
   ]
  },
  {
   "cell_type": "code",
   "execution_count": 64,
   "metadata": {
    "collapsed": true
   },
   "outputs": [],
   "source": [
    "data.Cabin.fillna(0,inplace=True)"
   ]
  },
  {
   "cell_type": "code",
   "execution_count": 65,
   "metadata": {
    "collapsed": true
   },
   "outputs": [],
   "source": [
    "data.Embarked.fillna(0,inplace=True)"
   ]
  },
  {
   "cell_type": "code",
   "execution_count": 66,
   "metadata": {},
   "outputs": [
    {
     "name": "stdout",
     "output_type": "stream",
     "text": [
      "PassengerId 0\n",
      "Survived 0\n",
      "Pclass 0\n",
      "Name 0\n",
      "Sex 0\n",
      "Age 0\n",
      "SibSp 0\n",
      "Parch 0\n",
      "Ticket 0\n",
      "Fare 0\n",
      "Cabin 0\n",
      "Embarked 0\n"
     ]
    }
   ],
   "source": [
    "for col in data.columns.values:\n",
    "    print(col,sum(data[col].isnull()))"
   ]
  },
  {
   "cell_type": "code",
   "execution_count": 67,
   "metadata": {},
   "outputs": [
    {
     "data": {
      "text/html": [
       "<div>\n",
       "<style>\n",
       "    .dataframe thead tr:only-child th {\n",
       "        text-align: right;\n",
       "    }\n",
       "\n",
       "    .dataframe thead th {\n",
       "        text-align: left;\n",
       "    }\n",
       "\n",
       "    .dataframe tbody tr th {\n",
       "        vertical-align: top;\n",
       "    }\n",
       "</style>\n",
       "<table border=\"1\" class=\"dataframe\">\n",
       "  <thead>\n",
       "    <tr style=\"text-align: right;\">\n",
       "      <th></th>\n",
       "      <th>PassengerId</th>\n",
       "      <th>Survived</th>\n",
       "      <th>Pclass</th>\n",
       "      <th>Name</th>\n",
       "      <th>Sex</th>\n",
       "      <th>Age</th>\n",
       "      <th>SibSp</th>\n",
       "      <th>Parch</th>\n",
       "      <th>Ticket</th>\n",
       "      <th>Fare</th>\n",
       "      <th>Cabin</th>\n",
       "      <th>Embarked</th>\n",
       "    </tr>\n",
       "  </thead>\n",
       "  <tbody>\n",
       "    <tr>\n",
       "      <th>0</th>\n",
       "      <td>1</td>\n",
       "      <td>0</td>\n",
       "      <td>3</td>\n",
       "      <td>Braund, Mr. Owen Harris</td>\n",
       "      <td>male</td>\n",
       "      <td>22</td>\n",
       "      <td>1</td>\n",
       "      <td>0</td>\n",
       "      <td>A/5 21171</td>\n",
       "      <td>7.2500</td>\n",
       "      <td>0</td>\n",
       "      <td>S</td>\n",
       "    </tr>\n",
       "    <tr>\n",
       "      <th>1</th>\n",
       "      <td>2</td>\n",
       "      <td>1</td>\n",
       "      <td>1</td>\n",
       "      <td>Cumings, Mrs. John Bradley (Florence Briggs Th...</td>\n",
       "      <td>female</td>\n",
       "      <td>38</td>\n",
       "      <td>1</td>\n",
       "      <td>0</td>\n",
       "      <td>PC 17599</td>\n",
       "      <td>71.2833</td>\n",
       "      <td>C85</td>\n",
       "      <td>C</td>\n",
       "    </tr>\n",
       "    <tr>\n",
       "      <th>2</th>\n",
       "      <td>3</td>\n",
       "      <td>1</td>\n",
       "      <td>3</td>\n",
       "      <td>Heikkinen, Miss. Laina</td>\n",
       "      <td>female</td>\n",
       "      <td>26</td>\n",
       "      <td>0</td>\n",
       "      <td>0</td>\n",
       "      <td>STON/O2. 3101282</td>\n",
       "      <td>7.9250</td>\n",
       "      <td>0</td>\n",
       "      <td>S</td>\n",
       "    </tr>\n",
       "    <tr>\n",
       "      <th>3</th>\n",
       "      <td>4</td>\n",
       "      <td>1</td>\n",
       "      <td>1</td>\n",
       "      <td>Futrelle, Mrs. Jacques Heath (Lily May Peel)</td>\n",
       "      <td>female</td>\n",
       "      <td>35</td>\n",
       "      <td>1</td>\n",
       "      <td>0</td>\n",
       "      <td>113803</td>\n",
       "      <td>53.1000</td>\n",
       "      <td>C123</td>\n",
       "      <td>S</td>\n",
       "    </tr>\n",
       "    <tr>\n",
       "      <th>4</th>\n",
       "      <td>5</td>\n",
       "      <td>0</td>\n",
       "      <td>3</td>\n",
       "      <td>Allen, Mr. William Henry</td>\n",
       "      <td>male</td>\n",
       "      <td>35</td>\n",
       "      <td>0</td>\n",
       "      <td>0</td>\n",
       "      <td>373450</td>\n",
       "      <td>8.0500</td>\n",
       "      <td>0</td>\n",
       "      <td>S</td>\n",
       "    </tr>\n",
       "  </tbody>\n",
       "</table>\n",
       "</div>"
      ],
      "text/plain": [
       "   PassengerId  Survived  Pclass  \\\n",
       "0            1         0       3   \n",
       "1            2         1       1   \n",
       "2            3         1       3   \n",
       "3            4         1       1   \n",
       "4            5         0       3   \n",
       "\n",
       "                                                Name     Sex Age  SibSp  \\\n",
       "0                            Braund, Mr. Owen Harris    male  22      1   \n",
       "1  Cumings, Mrs. John Bradley (Florence Briggs Th...  female  38      1   \n",
       "2                             Heikkinen, Miss. Laina  female  26      0   \n",
       "3       Futrelle, Mrs. Jacques Heath (Lily May Peel)  female  35      1   \n",
       "4                           Allen, Mr. William Henry    male  35      0   \n",
       "\n",
       "   Parch            Ticket     Fare Cabin Embarked  \n",
       "0      0         A/5 21171   7.2500     0        S  \n",
       "1      0          PC 17599  71.2833   C85        C  \n",
       "2      0  STON/O2. 3101282   7.9250     0        S  \n",
       "3      0            113803  53.1000  C123        S  \n",
       "4      0            373450   8.0500     0        S  "
      ]
     },
     "execution_count": 67,
     "metadata": {},
     "output_type": "execute_result"
    }
   ],
   "source": [
    "data.head()"
   ]
  },
  {
   "cell_type": "code",
   "execution_count": 69,
   "metadata": {
    "collapsed": true
   },
   "outputs": [],
   "source": [
    "sex_encoder = LabelEncoder()"
   ]
  },
  {
   "cell_type": "code",
   "execution_count": null,
   "metadata": {
    "collapsed": true
   },
   "outputs": [],
   "source": []
  },
  {
   "cell_type": "code",
   "execution_count": null,
   "metadata": {
    "collapsed": true
   },
   "outputs": [],
   "source": []
  },
  {
   "cell_type": "code",
   "execution_count": 27,
   "metadata": {},
   "outputs": [],
   "source": [
    "xtrain,xtest,ytrain,ytest = train_test_split(iris.drop('target',axis=1),iris.target,test_size=0.1,random_state=401)"
   ]
  },
  {
   "cell_type": "code",
   "execution_count": 28,
   "metadata": {
    "collapsed": true
   },
   "outputs": [],
   "source": [
    "dtrain = xgb.DMatrix(xtrain,ytrain)\n",
    "dtest = xgb.DMatrix(xtest,ytest)"
   ]
  },
  {
   "cell_type": "code",
   "execution_count": 40,
   "metadata": {},
   "outputs": [
    {
     "data": {
      "text/plain": [
       "{0, 1, 2}"
      ]
     },
     "execution_count": 40,
     "metadata": {},
     "output_type": "execute_result"
    }
   ],
   "source": [
    "set(iris.target)"
   ]
  },
  {
   "cell_type": "code",
   "execution_count": null,
   "metadata": {
    "collapsed": true
   },
   "outputs": [],
   "source": []
  }
 ],
 "metadata": {
  "kernelspec": {
   "display_name": "Python 3",
   "language": "python",
   "name": "python3"
  },
  "language_info": {
   "codemirror_mode": {
    "name": "ipython",
    "version": 3
   },
   "file_extension": ".py",
   "mimetype": "text/x-python",
   "name": "python",
   "nbconvert_exporter": "python",
   "pygments_lexer": "ipython3",
   "version": "3.6.3"
  }
 },
 "nbformat": 4,
 "nbformat_minor": 2
}
